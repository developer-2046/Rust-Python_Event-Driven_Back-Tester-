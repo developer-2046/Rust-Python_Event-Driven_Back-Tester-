{
 "cells": [
  {
   "cell_type": "code",
   "execution_count": null,
   "id": "681e4b1a",
   "metadata": {
    "vscode": {
     "languageId": "plaintext"
    }
   },
   "outputs": [],
   "source": [
    "# Install maturin and build Rust module\n",
    "!pip install -q maturin\n",
    "%cd ../rust_core\n",
    "!maturin develop --release -q\n",
    "%cd ../notebooks\n",
    "\n",
    "# Run backtest\n",
    "import rust_core as rc\n",
    "import json, pandas as pd, matplotlib.pyplot as plt\n",
    "\n",
    "cfg = json.dumps({\"fast\": 50, \"slow\": 200, \"initial_capital\": 100_000})\n",
    "rows = rc.backtest(\"../data/es_tick_sample.csv\", cfg)\n",
    "\n",
    "df = pd.DataFrame(rows, columns=[\"ts_ms\", \"equity\", \"sharpe\"])\n",
    "df[\"ts\"] = pd.to_datetime(df[\"ts_ms\"], unit=\"ms\")\n",
    "\n",
    "# Plot equity curve\n",
    "plt.plot(df[\"ts\"], df[\"equity\"])\n",
    "plt.title(\"Equity Curve\")\n",
    "plt.xlabel(\"Timestamp\")\n",
    "plt.ylabel(\"Equity\")\n",
    "plt.grid(True)\n",
    "plt.show()\n"
   ]
  }
 ],
 "metadata": {
  "language_info": {
   "name": "python"
  }
 },
 "nbformat": 4,
 "nbformat_minor": 5
}
